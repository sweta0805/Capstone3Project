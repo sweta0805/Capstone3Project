{
 "cells": [
  {
   "cell_type": "code",
   "execution_count": 2,
   "id": "current-while",
   "metadata": {},
   "outputs": [],
   "source": [
    "import pandas as pd\n",
    "import matplotlib.pyplot as plt\n",
    "import seaborn as sns\n",
    "import numpy as np"
   ]
  },
  {
   "cell_type": "code",
   "execution_count": 3,
   "id": "cardiac-weekly",
   "metadata": {},
   "outputs": [],
   "source": [
    "df = pd.read_csv(\"RawData/Aquifer_Petrignano.csv\")"
   ]
  },
  {
   "cell_type": "code",
   "execution_count": 4,
   "id": "latter-motor",
   "metadata": {},
   "outputs": [],
   "source": [
    "#Drop one of the target columns, so we can focus on only one target\n",
    "df = df.drop(['Depth_to_Groundwater_P24'], axis=1)\n",
    "\n",
    "df = df.copy()#Deep copy of DataFrame\n",
    "#new DataFrame from 1024 row\n",
    "Aquifier_Petrignano_1 = df.iloc[1024:,:] #Drop data before 2009 for the purpose of this tutorial"
   ]
  },
  {
   "cell_type": "code",
   "execution_count": 5,
   "id": "celtic-prisoner",
   "metadata": {},
   "outputs": [],
   "source": [
    "# Simplify column names\n",
    "Aquifier_Petrignano_1.columns = ['Date', 'Rainfall', 'Depth_to_Groundwater', 'Temperature_Bastia_Umbra', 'Temperature_Petrignano', 'Drainage_Volume', 'River_Hydrometry']\n",
    "\n",
    "#targets = ['Depth_to_Groundwater']\n"
   ]
  },
  {
   "cell_type": "code",
   "execution_count": 6,
   "id": "superb-maple",
   "metadata": {},
   "outputs": [
    {
     "name": "stdout",
     "output_type": "stream",
     "text": [
      "datetime64[ns]\n"
     ]
    },
    {
     "name": "stderr",
     "output_type": "stream",
     "text": [
      "E:\\anaconda\\lib\\site-packages\\ipykernel_launcher.py:3: SettingWithCopyWarning: \n",
      "A value is trying to be set on a copy of a slice from a DataFrame.\n",
      "Try using .loc[row_indexer,col_indexer] = value instead\n",
      "\n",
      "See the caveats in the documentation: https://pandas.pydata.org/pandas-docs/stable/user_guide/indexing.html#returning-a-view-versus-a-copy\n",
      "  This is separate from the ipykernel package so we can avoid doing imports until\n"
     ]
    }
   ],
   "source": [
    "from datetime import datetime, date \n",
    "\n",
    "Aquifier_Petrignano_1['Date'] = pd.to_datetime(df.Date, format = '%d/%m/%Y')\n",
    "Aquifier_Petrignano_1.head()\n",
    "print(Aquifier_Petrignano_1.Date.dtype)"
   ]
  },
  {
   "cell_type": "code",
   "execution_count": 7,
   "id": "early-sleeping",
   "metadata": {},
   "outputs": [
    {
     "data": {
      "text/html": [
       "<div>\n",
       "<style scoped>\n",
       "    .dataframe tbody tr th:only-of-type {\n",
       "        vertical-align: middle;\n",
       "    }\n",
       "\n",
       "    .dataframe tbody tr th {\n",
       "        vertical-align: top;\n",
       "    }\n",
       "\n",
       "    .dataframe thead th {\n",
       "        text-align: right;\n",
       "    }\n",
       "</style>\n",
       "<table border=\"1\" class=\"dataframe\">\n",
       "  <thead>\n",
       "    <tr style=\"text-align: right;\">\n",
       "      <th></th>\n",
       "      <th>Date</th>\n",
       "      <th>delta</th>\n",
       "    </tr>\n",
       "  </thead>\n",
       "  <tbody>\n",
       "    <tr>\n",
       "      <th>1024</th>\n",
       "      <td>2009-01-01</td>\n",
       "      <td>NaT</td>\n",
       "    </tr>\n",
       "    <tr>\n",
       "      <th>1025</th>\n",
       "      <td>2009-01-02</td>\n",
       "      <td>1 days</td>\n",
       "    </tr>\n",
       "    <tr>\n",
       "      <th>1026</th>\n",
       "      <td>2009-01-03</td>\n",
       "      <td>1 days</td>\n",
       "    </tr>\n",
       "    <tr>\n",
       "      <th>1027</th>\n",
       "      <td>2009-01-04</td>\n",
       "      <td>1 days</td>\n",
       "    </tr>\n",
       "    <tr>\n",
       "      <th>1028</th>\n",
       "      <td>2009-01-05</td>\n",
       "      <td>1 days</td>\n",
       "    </tr>\n",
       "  </tbody>\n",
       "</table>\n",
       "</div>"
      ],
      "text/plain": [
       "           Date  delta\n",
       "1024 2009-01-01    NaT\n",
       "1025 2009-01-02 1 days\n",
       "1026 2009-01-03 1 days\n",
       "1027 2009-01-04 1 days\n",
       "1028 2009-01-05 1 days"
      ]
     },
     "execution_count": 7,
     "metadata": {},
     "output_type": "execute_result"
    }
   ],
   "source": [
    "Aquifier_Petrignano_1 = Aquifier_Petrignano_1.sort_values(by='Date')\n",
    "\n",
    "# Check time intervals\n",
    "Aquifier_Petrignano_1['delta'] = Aquifier_Petrignano_1['Date'] - Aquifier_Petrignano_1['Date'].shift(1)\n",
    "\n",
    "Aquifier_Petrignano_1[['Date', 'delta']].head()"
   ]
  },
  {
   "cell_type": "code",
   "execution_count": 9,
   "id": "pressing-presentation",
   "metadata": {},
   "outputs": [
    {
     "data": {
      "text/plain": [
       "0"
      ]
     },
     "execution_count": 9,
     "metadata": {},
     "output_type": "execute_result"
    }
   ],
   "source": [
    "Aquifier_Petrignano_1['Depth_to_Groundwater'] = Aquifier_Petrignano_1['Depth_to_Groundwater'].interpolate()\n",
    "Aquifier_Petrignano_1['Depth_to_Groundwater'].isnull().sum()"
   ]
  },
  {
   "cell_type": "code",
   "execution_count": 10,
   "id": "potential-chorus",
   "metadata": {
    "scrolled": true
   },
   "outputs": [
    {
     "data": {
      "text/html": [
       "<div>\n",
       "<style scoped>\n",
       "    .dataframe tbody tr th:only-of-type {\n",
       "        vertical-align: middle;\n",
       "    }\n",
       "\n",
       "    .dataframe tbody tr th {\n",
       "        vertical-align: top;\n",
       "    }\n",
       "\n",
       "    .dataframe thead th {\n",
       "        text-align: right;\n",
       "    }\n",
       "</style>\n",
       "<table border=\"1\" class=\"dataframe\">\n",
       "  <thead>\n",
       "    <tr style=\"text-align: right;\">\n",
       "      <th></th>\n",
       "      <th>Date</th>\n",
       "      <th>Depth_to_Groundwater</th>\n",
       "    </tr>\n",
       "  </thead>\n",
       "  <tbody>\n",
       "    <tr>\n",
       "      <th>1024</th>\n",
       "      <td>2009-01-01</td>\n",
       "      <td>-31.14</td>\n",
       "    </tr>\n",
       "    <tr>\n",
       "      <th>1025</th>\n",
       "      <td>2009-01-02</td>\n",
       "      <td>-31.11</td>\n",
       "    </tr>\n",
       "  </tbody>\n",
       "</table>\n",
       "</div>"
      ],
      "text/plain": [
       "           Date  Depth_to_Groundwater\n",
       "1024 2009-01-01                -31.14\n",
       "1025 2009-01-02                -31.11"
      ]
     },
     "execution_count": 10,
     "metadata": {},
     "output_type": "execute_result"
    }
   ],
   "source": [
    "old_df = Aquifier_Petrignano_1.copy()\n",
    "df = old_df[['Date','Depth_to_Groundwater']]\n",
    "df.head(2)"
   ]
  },
  {
   "cell_type": "code",
   "execution_count": 11,
   "id": "pacific-anger",
   "metadata": {},
   "outputs": [
    {
     "name": "stdout",
     "output_type": "stream",
     "text": [
      "Train Size : 3834\n",
      "Test Size :  365\n"
     ]
    }
   ],
   "source": [
    "train_size = 3834 \n",
    "test_size = len(df) - 3834 #last 365 day data\n",
    "print(\"Train Size :\", train_size)\n",
    "print(\"Test Size : \", test_size)\n",
    "\n",
    "univariate_df = df[['Date', 'Depth_to_Groundwater']].copy()\n",
    "\n",
    "x_train, y_train = pd.DataFrame(univariate_df.iloc[:train_size, 0]), pd.DataFrame(univariate_df.iloc[:train_size, 1])\n",
    "x_test, y_test = pd.DataFrame(univariate_df.iloc[train_size:, 0]), pd.DataFrame(univariate_df.iloc[train_size:, 1])\n"
   ]
  },
  {
   "cell_type": "code",
   "execution_count": 12,
   "id": "subject-alaska",
   "metadata": {},
   "outputs": [
    {
     "name": "stdout",
     "output_type": "stream",
     "text": [
      "3834 365\n",
      "          y\n",
      "1024 -31.14\n",
      "1025 -31.11\n",
      "1026 -31.07\n",
      "1027 -31.05\n",
      "1028 -31.01\n",
      "          y\n",
      "4858 -25.74\n",
      "4859 -25.82\n",
      "4860 -26.00\n",
      "4861 -26.05\n",
      "4862 -26.08\n"
     ]
    }
   ],
   "source": [
    "univariate_df = df[['Date', 'Depth_to_Groundwater']].copy()\n",
    "univariate_df.columns = ['ds', 'y'] # As per Convention in Prophet Model\n",
    "\n",
    "x_train, y_train = pd.DataFrame(univariate_df.iloc[:train_size, 0]), pd.DataFrame(univariate_df.iloc[:train_size, 1])\n",
    "x_test, y_test = pd.DataFrame(univariate_df.iloc[train_size:, 0]), pd.DataFrame(univariate_df.iloc[train_size:, 1])\n",
    "\n",
    "print(len(x_train), len(x_test))\n",
    "print(y_train.head())\n",
    "print(y_test.head())\n"
   ]
  },
  {
   "cell_type": "code",
   "execution_count": 13,
   "id": "retired-damage",
   "metadata": {},
   "outputs": [],
   "source": [
    "train_df = univariate_df.iloc[:train_size]\n",
    "from sklearn.metrics import mean_absolute_error, mean_squared_error,r2_score\n",
    "import math\n",
    "from fbprophet import Prophet"
   ]
  },
  {
   "cell_type": "code",
   "execution_count": 18,
   "id": "derived-trout",
   "metadata": {},
   "outputs": [
    {
     "name": "stderr",
     "output_type": "stream",
     "text": [
      "INFO:fbprophet:Disabling daily seasonality. Run prophet with daily_seasonality=True to override this.\n",
      "INFO:fbprophet:n_changepoints greater than number of observations. Using 2.\n"
     ]
    },
    {
     "name": "stdout",
     "output_type": "stream",
     "text": [
      "MAE: 2.5206961082494614\n",
      "RMSE: 2.5584332454954857\n",
      "R_square: -11.090494700781646\n"
     ]
    }
   ],
   "source": [
    "train_df = univariate_df.iloc[:train_size]\n",
    "from sklearn.metrics import mean_absolute_error, mean_squared_error,r2_score\n",
    "import math\n",
    "from fbprophet import Prophet\n",
    "\n",
    "# Train the model\n",
    "model = Prophet(seasonality_prior_scale=0.10, changepoint_range=0.001) # changepoint_prior_scale\n",
    "model.fit(train_df) #training model on train data\n",
    "\n",
    "# Predict on test set\n",
    "y_pred = model.predict(x_test)\n",
    "\n",
    "# Calcuate metrics\n",
    "score_mae = mean_absolute_error(y_test, y_pred.tail(test_size)['yhat'])\n",
    "score_rmse = math.sqrt(mean_squared_error(y_test, y_pred.tail(test_size)['yhat']))\n",
    "score_r2 = r2_score(y_test, y_pred.tail(test_size)['yhat'])\n",
    "\n",
    "print('MAE: {}'.format(score_mae))\n",
    "print('RMSE: {}'.format(score_rmse))\n",
    "print('R_square: {}'.format(score_r2))\n"
   ]
  },
  {
   "cell_type": "code",
   "execution_count": null,
   "id": "married-trance",
   "metadata": {},
   "outputs": [],
   "source": []
  }
 ],
 "metadata": {
  "kernelspec": {
   "display_name": "Python 3",
   "language": "python",
   "name": "python3"
  },
  "language_info": {
   "codemirror_mode": {
    "name": "ipython",
    "version": 3
   },
   "file_extension": ".py",
   "mimetype": "text/x-python",
   "name": "python",
   "nbconvert_exporter": "python",
   "pygments_lexer": "ipython3",
   "version": "3.7.9"
  }
 },
 "nbformat": 4,
 "nbformat_minor": 5
}
